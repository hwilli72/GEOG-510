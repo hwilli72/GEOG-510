{
 "cells": [
  {
   "attachments": {},
   "cell_type": "markdown",
   "metadata": {},
   "source": [
    "<a target=\"_blank\" href=\"https://colab.research.google.com/github/hwilli72/GEOG-510/blob/17de9e54d24497920a5166180754aac77c11007b/Lab2/Lab2GEOG510.ipynb\">\n",
    "  <img src=\"https://colab.research.google.com/assets/colab-badge.svg\" alt=\"Open In Colab\"/>\n",
    "</a>\n",
    "\n",
    "# Lab 2: Python Basics\n",
    "In this lab, I will demonstrate the basics of creating markdown files and writing in markdown. I will also demonstrate how to use the Jupyter Notebook environment to write and execute Python code."
   ]
  },
  {
   "cell_type": "code",
   "execution_count": null,
   "metadata": {},
   "outputs": [],
   "source": [
    "# !pip install leafmap"
   ]
  }
 ],
 "metadata": {
  "kernelspec": {
   "display_name": "Python 3",
   "language": "python",
   "name": "python3"
  },
  "language_info": {
   "name": "python",
   "version": "3.10.10"
  },
  "orig_nbformat": 4,
  "vscode": {
   "interpreter": {
    "hash": "1284837eb46c23504665146721515524bd7a84fded683303e91985fbb74eb2c0"
   }
  }
 },
 "nbformat": 4,
 "nbformat_minor": 2
}
