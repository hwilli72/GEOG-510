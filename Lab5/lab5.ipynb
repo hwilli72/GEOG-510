{
 "cells": [
  {
   "attachments": {},
   "cell_type": "markdown",
   "id": "4e70be69",
   "metadata": {},
   "source": [
    "# Lab 5\n",
    "\n",
    "[![image](https://colab.research.google.com/assets/colab-badge.svg)](https://colab.research.google.com/github/hwilli72/GEOG-510/blob/main/Lab5/lab5.ipynb)\n",
    "\n",
    "## Submission instructions\n",
    "\n",
    "1. Download the notebook from https://geosdemo.gishub.org/labs/lab5\n",
    "2. Complete the lab questions\n",
    "3. Restart Kernel and Run All Cells\n",
    "4. Upload the notebook to your GitHub repository\n",
    "5. Make sure the notebook has an `Open In Colab` badge. Click on the badge to make sure your notebook can be opened in Colab.\n",
    "6. Submit the link to the notebook on your GitHub repository to Canvas"
   ]
  },
  {
   "cell_type": "code",
   "execution_count": null,
   "id": "8de60915",
   "metadata": {},
   "outputs": [],
   "source": [
    "from datetime import datetime\n",
    "\n",
    "now = datetime.now()\n",
    "print(f\"Submitted time: {now}\")"
   ]
  },
  {
   "cell_type": "markdown",
   "id": "a526d1ff",
   "metadata": {},
   "source": [
    "## Question 1\n",
    "\n",
    "**Person:** Use a dictionary to store information about a person you know. Store their first name, last name, age, and the city in which they live. You should have keys such as first_name, last_name, age, and city. Print each piece of information stored in your dictionary."
   ]
  },
  {
   "cell_type": "code",
   "execution_count": 35,
   "id": "060bd962",
   "metadata": {},
   "outputs": [
    {
     "name": "stdout",
     "output_type": "stream",
     "text": [
      "Leann Hopper is 22 years old and is from Troy, Tennessee.\n"
     ]
    }
   ],
   "source": [
    "person = {\"first_name\": \"Leann\", \"last_name\": \"Hopper\", \"age\": 22, \"hometown\": \"Troy, Tennessee\"}\n",
    "\n",
    "print(f\"{person['first_name']} {person['last_name']} is {person['age']} years old and is from {person['hometown']}.\")"
   ]
  },
  {
   "cell_type": "markdown",
   "id": "32bb120e",
   "metadata": {},
   "source": [
    "## Question 2\n",
    "\n",
    "**Favorite Numbers:** Use a dictionary to store people’s favorite numbers. Think of five names, and use them as keys in your dictionary. Think of a favorite number for each person, and store each as a value in your dictionary. Print each person’s name and their favorite number. For even more fun, poll a few friends and get some actual data for your program."
   ]
  },
  {
   "cell_type": "code",
   "execution_count": 27,
   "id": "37115a33",
   "metadata": {},
   "outputs": [
    {
     "name": "stdout",
     "output_type": "stream",
     "text": [
      "My friends' favorite numbers are:\n",
      "  -Hannah: 11\n",
      "  -Leann: 14\n",
      "  -Eilish: 21\n",
      "  -Hence: 98\n",
      "  -Savannah: 45\n",
      "  -Caden: 32\n"
     ]
    }
   ],
   "source": [
    "friends = {\"Hannah\": \"11\", \"Leann\": \"14\", \"Eilish\": \"21\", \"Hence\": \"98\", \"Savannah\": \"45\", \"Caden\": \"32\"}\n",
    "print(f\"My friends' favorite numbers are:\")\n",
    "for friend in friends:\n",
    "    print(f\"  -{friend}: {friends[friend]}\")\n",
    "\n"
   ]
  },
  {
   "cell_type": "markdown",
   "id": "eb31ca53",
   "metadata": {},
   "source": [
    "## Question 3\n",
    "\n",
    "**Glossary:** A Python dictionary can be used to model an actual dictionary. However, to avoid confusion, let’s call it a glossary.\n",
    "\n",
    "- Think of five programming words you’ve learned about in the previous chapters. Use these words as the keys in your glossary, and store their meanings as values.\n",
    "- Print each word and its meaning as neatly formatted output. You might print the word followed by a colon and then its meaning, or print the word on one line and then print its meaning indented on a second line. Use the newline character (\\n) to insert a blank line between each word-meaning pair in your output."
   ]
  },
  {
   "cell_type": "code",
   "execution_count": 29,
   "id": "7bdd7f86",
   "metadata": {},
   "outputs": [
    {
     "name": "stdout",
     "output_type": "stream",
     "text": [
      "Programming Glossary:\n",
      "\n",
      "print:\n",
      "print the value of a variable\n",
      "\n",
      "if:\n",
      "if a condition is true, do something\n",
      "\n",
      "else:\n",
      "if a condition is false, do something\n",
      "\n",
      "elif:\n",
      "if a condition is true, do something, otherwise, do something else\n",
      "\n",
      "for:\n",
      "for each item in a list, do something\n",
      "\n"
     ]
    }
   ],
   "source": [
    "glossary = {\"print\": \"print the value of a variable\", \"if\": \"if a condition is true, do something\", \"else\": \"if a condition is false, do something\", \"elif\": \"if a condition is true, do something, otherwise, do something else\", \"for\": \"for each item in a list, do something\"}\n",
    "print(f\"Programming Glossary:\\n\")\n",
    "for word in glossary:\n",
    "    print(f\"{word}:\\n{glossary[word]}\\n\")"
   ]
  },
  {
   "cell_type": "markdown",
   "id": "9bdb2d85",
   "metadata": {},
   "source": [
    "## Question 4\n",
    "\n",
    "**Glossary 2:** Now that you know how to loop through a dictionary, clean up the code from Question 3 by replacing your series of print() calls with a loop that runs through the dictionary’s keys and values. When you’re sure that your loop works, add five more Python terms to your glossary. When you run your program again, these new words and meanings should automatically be included in the output."
   ]
  },
  {
   "cell_type": "code",
   "execution_count": 36,
   "id": "018d37ff",
   "metadata": {},
   "outputs": [
    {
     "name": "stdout",
     "output_type": "stream",
     "text": [
      "Programming Glossary:\n",
      "\n",
      "print:\n",
      "print the value of a variable\n",
      "\n",
      "if:\n",
      "if a condition is true, do something\n",
      "\n",
      "else:\n",
      "if a condition is false, do something\n",
      "\n",
      "elif:\n",
      "if a condition is true, do something, otherwise, do something else\n",
      "\n",
      "for:\n",
      "for each item in a list, do something\n",
      "\n",
      "return:\n",
      "return a value from a function\n",
      "\n",
      "while:\n",
      "while a condition is true, do something\n",
      "\n",
      "break:\n",
      "break out of a loop\n",
      "\n",
      "continue:\n",
      "continue to the next iteration of a loop\n",
      "\n",
      "pass:\n",
      "do nothing\n",
      "\n"
     ]
    }
   ],
   "source": [
    "glossary = {\"print\": \"print the value of a variable\", \"if\": \"if a condition is true, do something\", \"else\": \"if a condition is false, do something\", \"elif\": \"if a condition is true, do something, otherwise, do something else\", \"for\": \"for each item in a list, do something\"}\n",
    "glossary['return'] =  \"return a value from a function\"\n",
    "glossary['while'] = \"while a condition is true, do something\"\n",
    "glossary['break'] = \"break out of a loop\"\n",
    "glossary['continue'] = \"continue to the next iteration of a loop\"\n",
    "glossary['pass'] = \"do nothing\"\n",
    "print(f\"Programming Glossary:\\n\")\n",
    "for word in glossary:\n",
    "    print(f\"{word}:\\n{glossary[word]}\\n\")"
   ]
  },
  {
   "cell_type": "markdown",
   "id": "375356d5",
   "metadata": {},
   "source": [
    "## Question 5\n",
    "\n",
    "**Rivers:** Make a dictionary containing three major rivers and the country each river runs through. One key-value pair might be 'nile': 'egypt'.\n",
    "\n",
    "- Use a loop to print a sentence about each river, such as _The Nile runs through Egypt._\n",
    "- Use a loop to print the name of each river included in the dictionary.\n",
    "- Use a loop to print the name of each country included in the dictionary."
   ]
  },
  {
   "cell_type": "code",
   "execution_count": 38,
   "id": "2fd7b758",
   "metadata": {},
   "outputs": [
    {
     "name": "stdout",
     "output_type": "stream",
     "text": [
      "The Mississippi runs through United States.\n",
      "The Nile runs through Egypt.\n",
      "The Amazon runs through Brazil.\n",
      "\n",
      "The following rivers are included in this data set:\n",
      "\t-Mississippi\n",
      "\t-Nile\n",
      "\t-Amazon\n",
      "\n",
      "The following countries are included in this data set:\n",
      "\t-United States\n",
      "\t-Egypt\n",
      "\t-Brazil\n"
     ]
    }
   ],
   "source": [
    "rivers = {\"Mississippi\": \"United States\", \"Nile\": \"Egypt\", \"Amazon\": \"Brazil\"}\n",
    "for river in rivers:\n",
    "    print(f\"The {river} runs through {rivers[river]}.\")\n",
    "print(f\"\\nThe following rivers are included in this data set:\")\n",
    "for river in rivers:\n",
    "    print(f\"\\t-{river}\")\n",
    "print(f\"\\nThe following countries are included in this data set:\")\n",
    "for river in rivers:\n",
    "    print(f\"\\t-{rivers[river]}\")"
   ]
  },
  {
   "cell_type": "markdown",
   "id": "8b0b500d",
   "metadata": {},
   "source": [
    "## Question 6\n",
    "\n",
    "**Cities:** Make a dictionary called `cities`. Use the names of three cities as keys in your dictionary. Create a dictionary of information about each city and include the country that the city is in, its approximate population, and one fact about that city. The keys for each city’s dictionary should be something like `country`, `population`, and `fact`. Print the name of each city and all of the information you have stored about it."
   ]
  },
  {
   "cell_type": "code",
   "execution_count": 37,
   "id": "28a77010",
   "metadata": {},
   "outputs": [
    {
     "name": "stdout",
     "output_type": "stream",
     "text": [
      "New York:\n",
      "\tCountry: United States\n",
      "\tPopulation: 8,398,748\n",
      "\tFact: New York City is the most populous city in the United States.\n",
      "London:\n",
      "\tCountry: United Kingdom\n",
      "\tPopulation: 8,787,892\n",
      "\tFact: London is the capital and largest city of England and the United Kingdom.\n",
      "Tokyo:\n",
      "\tCountry: Japan\n",
      "\tPopulation: 9,273,000\n",
      "\tFact: Tokyo is the capital of Japan, the center of the Greater Tokyo Area, and the most populous metropolitan area in the world.\n"
     ]
    }
   ],
   "source": [
    "cities = {\"New York\": {\"country\": \"United States\", \"population\": \"8,398,748\", \"fact\": \"New York City is the most populous city in the United States.\"}, \"London\": {\"country\": \"United Kingdom\", \"population\": \"8,787,892\", \"fact\": \"London is the capital and largest city of England and the United Kingdom.\"}, \"Tokyo\": {\"country\": \"Japan\", \"population\": \"9,273,000\", \"fact\": \"Tokyo is the capital of Japan, the center of the Greater Tokyo Area, and the most populous metropolitan area in the world.\"}}\n",
    "for city in cities:\n",
    "    print(f\"{city}:\")\n",
    "    print(f\"\\tCountry: {cities[city]['country']}\")\n",
    "    print(f\"\\tPopulation: {cities[city]['population']}\")\n",
    "    print(f\"\\tFact: {cities[city]['fact']}\")"
   ]
  },
  {
   "cell_type": "markdown",
   "id": "874541d3",
   "metadata": {},
   "source": [
    "## Question 7\n",
    "\n",
    "**Rental Car:** Write a program that asks the user what kind of rental car they would like. Print a message about that car, such as “Let me see if I can find you a Subaru.”"
   ]
  },
  {
   "cell_type": "code",
   "execution_count": 1,
   "id": "5283628b",
   "metadata": {},
   "outputs": [
    {
     "name": "stdout",
     "output_type": "stream",
     "text": [
      "\n",
      "Let me see if I can find you a Ford.\n"
     ]
    }
   ],
   "source": [
    "car = input(\"What kind of rental car would you prefer?\")\n",
    "print(f\"\\nLet me see if I can find you a {car}.\")"
   ]
  },
  {
   "cell_type": "markdown",
   "id": "e03a200a",
   "metadata": {},
   "source": [
    "## Question 8\n",
    "\n",
    "**Restaurant Seating:** Write a program that asks the user how many people are in their dinner group. If the answer is more than eight, print a message saying they’ll have to wait for a table. Otherwise, report that their table is ready."
   ]
  },
  {
   "cell_type": "code",
   "execution_count": 3,
   "id": "96167a0f",
   "metadata": {},
   "outputs": [
    {
     "name": "stdout",
     "output_type": "stream",
     "text": [
      "\n",
      "Your table is ready.\n"
     ]
    }
   ],
   "source": [
    "group_size = input(\"How many people are in your dinner group?\")\n",
    "group_size = int(group_size)\n",
    "if group_size > 8:\n",
    "    print(f\"\\nYou'll have to wait for a table.\")\n",
    "else:\n",
    "    print(f\"\\nYour table is ready.\")"
   ]
  },
  {
   "cell_type": "markdown",
   "id": "a523d8a7",
   "metadata": {},
   "source": [
    "## Question 9\n",
    "\n",
    "**Multiples of Ten:** Ask the user for a number, and then report whether the number is a multiple of 10 or not."
   ]
  },
  {
   "cell_type": "code",
   "execution_count": 5,
   "id": "77c9702e",
   "metadata": {},
   "outputs": [
    {
     "name": "stdout",
     "output_type": "stream",
     "text": [
      "\n",
      "The number 135 is not a multiple of 10.\n"
     ]
    }
   ],
   "source": [
    "number = input(\"Enter a number, and I'll tell you if it's a multiple of 10.\")\n",
    "number = int(number)\n",
    "if number % 10 == 0:\n",
    "    print(f\"\\nThe number {number} is a multiple of 10.\")\n",
    "else:\n",
    "    print(f\"\\nThe number {number} is not a multiple of 10.\")"
   ]
  },
  {
   "cell_type": "markdown",
   "id": "de550983",
   "metadata": {},
   "source": [
    "## Question 10\n",
    "\n",
    "**Pizza Toppings:** Write a loop that prompts the user to enter a series of pizza toppings until they enter a 'quit' value. As they enter each topping, print a message saying you’ll add that topping to their pizza."
   ]
  },
  {
   "cell_type": "code",
   "execution_count": 7,
   "id": "11f4d8e4",
   "metadata": {},
   "outputs": [
    {
     "name": "stdout",
     "output_type": "stream",
     "text": [
      "Adding mushrooms to your pizza.\n",
      "Adding pepperoni to your pizza.\n"
     ]
    }
   ],
   "source": [
    "pizza_toppings = input(\"Enter a pizza topping, or enter 'quit' when finished.\")\n",
    "while pizza_toppings != 'quit':\n",
    "    print(f\"Adding {pizza_toppings} to your pizza.\")\n",
    "    pizza_toppings = input(\"Enter a pizza topping, or enter 'quit' when finished.\")"
   ]
  },
  {
   "cell_type": "markdown",
   "id": "ccfe4831",
   "metadata": {},
   "source": [
    "## Question 11\n",
    "\n",
    "**Message:** Write a function called `display_message()` that prints one sentence telling everyone what you are learning about in this chapter. Call the function, and make sure the message displays correctly."
   ]
  },
  {
   "cell_type": "code",
   "execution_count": 8,
   "id": "7080b52a",
   "metadata": {},
   "outputs": [
    {
     "name": "stdout",
     "output_type": "stream",
     "text": [
      "I am learning about the basics of python functions in this chapter.\n"
     ]
    }
   ],
   "source": [
    "def display_message():\n",
    "    \"\"\"Prints a sentence about what I am learning about in this chapter.\"\"\"\n",
    "    print(\"I am learning about the basics of python functions in this chapter.\")\n",
    "\n",
    "display_message()"
   ]
  },
  {
   "cell_type": "markdown",
   "id": "2b5e23db",
   "metadata": {},
   "source": [
    "## Question 12\n",
    "\n",
    "**Favorite Book:** Write a function called `favorite_book()` that accepts one parameter, title. The function should print a message, such as `One of my favorite books is Alice in Wonderland`. Call the function, making sure to include a book title as an argument in the function call."
   ]
  },
  {
   "cell_type": "code",
   "execution_count": 9,
   "id": "b33bd108",
   "metadata": {},
   "outputs": [
    {
     "name": "stdout",
     "output_type": "stream",
     "text": [
      "One of my favorite books is Outlander.\n"
     ]
    }
   ],
   "source": [
    "def favorite_book(title):\n",
    "    \"\"\"Prints a sentence about my favorite book.\"\"\"\n",
    "    print(f\"One of my favorite books is {title}.\")\n",
    "\n",
    "favorite_book(\"Outlander\")"
   ]
  },
  {
   "cell_type": "markdown",
   "id": "4904419f",
   "metadata": {},
   "source": [
    "## Question 13\n",
    "\n",
    "**T-Shirt:** Write a function called `make_shirt()` that accepts a size and the text of a message that should be printed on the shirt. The function should print a sentence summarizing the size of the shirt and the message printed on it.\n",
    "\n",
    "Call the function once using positional arguments to make a shirt. Call the function a second time using keyword arguments."
   ]
  },
  {
   "cell_type": "code",
   "execution_count": 19,
   "id": "53d690ca",
   "metadata": {},
   "outputs": [
    {
     "name": "stdout",
     "output_type": "stream",
     "text": [
      "The shirt is a size medium and has the text 'I love Python!' printed on it.\n",
      "The shirt is a size medium and has the text 'I love Python!' printed on it.\n"
     ]
    }
   ],
   "source": [
    "def make_shirt(size, text):\n",
    "    \"\"\"Prints a sentence about the size and text of a shirt.\"\"\"\n",
    "    print(f\"The shirt is a size {size} and has the text '{text}' printed on it.\")\n",
    "\n",
    "make_shirt(\"medium\", \"I love Python!\")\n",
    "make_shirt(text=\"I love Python!\", size=\"medium\")"
   ]
  },
  {
   "cell_type": "markdown",
   "id": "c6a6dc4b",
   "metadata": {},
   "source": [
    "## Question 14\n",
    "\n",
    "**Large Shirts:** Modify the `make_shirt()` function so that shirts are large by default with a message that reads _I love Python_. Make a large shirt and a medium shirt with the default message, and a shirt of any size with a different message."
   ]
  },
  {
   "cell_type": "code",
   "execution_count": 18,
   "id": "658f7e3f",
   "metadata": {},
   "outputs": [
    {
     "name": "stdout",
     "output_type": "stream",
     "text": [
      "The shirt is a size large and has the text 'I love Python!' printed on it.\n",
      "The shirt is a size medium and has the text 'I love Python!' printed on it.\n",
      "The shirt is a size small and has the text 'I love C++!' printed on it.\n"
     ]
    }
   ],
   "source": [
    "def make_shirt(size=\"large\", text=\"I love Python!\"):\n",
    "    \"\"\"Prints a sentence about the size and text of a shirt.\"\"\"\n",
    "    print(f\"The shirt is a size {size} and has the text '{text}' printed on it.\")\n",
    "\n",
    "make_shirt()\n",
    "make_shirt(size=\"medium\")\n",
    "make_shirt(\"small\", \"I love C++!\")\n"
   ]
  },
  {
   "cell_type": "markdown",
   "id": "64fd6e85",
   "metadata": {},
   "source": [
    "## Question 15\n",
    "\n",
    "**Cities:** Write a function called `describe_city()` that accepts the name of a city and its country. The function should print a simple sentence, such as `Reykjavik is in Iceland`. Give the parameter for the country a default value. Call your function for three different cities, at least one of which is not in the default country."
   ]
  },
  {
   "cell_type": "code",
   "execution_count": 20,
   "id": "bc493373",
   "metadata": {},
   "outputs": [
    {
     "name": "stdout",
     "output_type": "stream",
     "text": [
      "New York is in America.\n",
      "Miami is in America.\n",
      "Tokyo is in Japan.\n"
     ]
    }
   ],
   "source": [
    "def describe_city(city, country=\"America\"):\n",
    "    \"\"\"Prints a sentence about a city and its country.\"\"\"\n",
    "    print(f\"{city.title()} is in {country.title()}.\")\n",
    "describe_city(\"new york\")\n",
    "describe_city(\"miami\")\n",
    "describe_city(\"tokyo\", \"japan\")"
   ]
  },
  {
   "cell_type": "markdown",
   "id": "259cdcdc",
   "metadata": {},
   "source": [
    "## Question 16\n",
    "\n",
    "**City Names:** Write a function called `city_country()` that takes in the name of a city and its country. The function should return a string formatted like this:\n",
    "\n",
    "```text\n",
    "Santiago, Chile\n",
    "```\n",
    "\n",
    "Call your function with at least three city-country pairs, and print the values that are returned."
   ]
  },
  {
   "cell_type": "code",
   "execution_count": null,
   "id": "f1b5b16e",
   "metadata": {},
   "outputs": [],
   "source": []
  },
  {
   "cell_type": "markdown",
   "id": "491f64a4",
   "metadata": {},
   "source": [
    "## Question 17\n",
    "\n",
    "**Album:** Write a function called `make_album()` that builds a dictionary describing a music album. The function should take in an artist name and an album title, and it should return a dictionary containing these two pieces of information. Use the function to make three dictionaries representing different albums. Print each return value to show that the dictionaries are storing the album information correctly.\n",
    "\n",
    "Use None to add an optional parameter to make_album() that allows you to store the number of songs on an album. If the calling line includes a value for the number of songs, add that value to the album’s dictionary. Make at least one new function call that includes the number of songs on an album."
   ]
  },
  {
   "cell_type": "code",
   "execution_count": null,
   "id": "550b2be6",
   "metadata": {},
   "outputs": [],
   "source": []
  },
  {
   "cell_type": "markdown",
   "id": "42f6a72f",
   "metadata": {},
   "source": [
    "## Question 18\n",
    "\n",
    "**User Albums:** Start with your program from Question 17. Write a `while` loop that allows users to enter an album’s artist and title. Once you have that information, call `make_album()` with the user’s input and print the dictionary that’s created. Be sure to include a quit value in the `while` loop."
   ]
  },
  {
   "cell_type": "code",
   "execution_count": null,
   "id": "2ba9b4ba",
   "metadata": {},
   "outputs": [],
   "source": []
  },
  {
   "cell_type": "markdown",
   "id": "97bab8c2",
   "metadata": {},
   "source": [
    "## Question 19\n",
    "\n",
    "**Messages:** Make a list containing a series of short text messages. Pass the list to a function called `show_messages()`, which prints each text message."
   ]
  },
  {
   "cell_type": "code",
   "execution_count": null,
   "id": "f8f3ee4e",
   "metadata": {},
   "outputs": [],
   "source": []
  },
  {
   "cell_type": "markdown",
   "id": "a8bcea3c",
   "metadata": {},
   "source": [
    "## Question 20\n",
    "\n",
    "**Sending Messages:** Start with a copy of your program from Question 19. Write a function called `send_messages()` that prints each text message and moves each message to a new list called `sent_messages` as it’s printed. After calling the function, print both of your lists to make sure the messages were moved correctly."
   ]
  },
  {
   "cell_type": "code",
   "execution_count": null,
   "id": "c5340719",
   "metadata": {},
   "outputs": [],
   "source": []
  },
  {
   "cell_type": "markdown",
   "id": "c98f1dd0",
   "metadata": {},
   "source": [
    "## Question 21\n",
    "\n",
    "**Learning Python:** Open a blank file in your text editor and write a few lines summarizing what you’ve learned about Python so far. Start each line with the phrase _In Python you can. . .._ Save the file as _learning_python.txt_ in the same directory as your exercises from this chapter. Write a program that reads the file and prints what you wrote three times. Print the contents once by reading in the entire file, once by looping over the file object, and once by storing the lines in a list and then working with them outside the _with_ block."
   ]
  },
  {
   "cell_type": "code",
   "execution_count": null,
   "id": "cb5da040",
   "metadata": {},
   "outputs": [],
   "source": []
  },
  {
   "cell_type": "markdown",
   "id": "4a1a04ad",
   "metadata": {},
   "source": [
    "## Question 22\n",
    "\n",
    "**Learning C:** You can use the replace() method to replace any word in a string with a different word. Here’s a quick example showing how to replace 'dog' with 'cat' in a sentence:\n",
    "\n",
    "```text\n",
    "message = \"I really like dogs.\"\n",
    "message.replace('dog', 'cat')\n",
    "'I really like cats.'\n",
    "```\n",
    "\n",
    "Read in each line from the file you just created, _learning_python.txt_, and replace the word _Python_ with the name of another language, such as _C_. Print each modified line to the screen."
   ]
  },
  {
   "cell_type": "code",
   "execution_count": null,
   "id": "b11b8018",
   "metadata": {},
   "outputs": [],
   "source": []
  },
  {
   "cell_type": "markdown",
   "id": "0921244a",
   "metadata": {},
   "source": [
    "## Question 23\n",
    "\n",
    "**Guest:** Write a program that prompts the user for their name. When they respond, write their name to a file called guest.txt."
   ]
  },
  {
   "cell_type": "code",
   "execution_count": null,
   "id": "340d8f4b",
   "metadata": {},
   "outputs": [],
   "source": []
  },
  {
   "cell_type": "markdown",
   "id": "24b72b21",
   "metadata": {},
   "source": [
    "## Question 24\n",
    "\n",
    "**Guest Book:** Write a while loop that prompts users for their name. When they enter their name, print a greeting to the screen and add a line recording their visit in a file called guest_book.txt. Make sure each entry appears on a new line in the file."
   ]
  },
  {
   "cell_type": "code",
   "execution_count": null,
   "id": "2326c653",
   "metadata": {},
   "outputs": [],
   "source": []
  },
  {
   "cell_type": "markdown",
   "id": "f3075d32",
   "metadata": {},
   "source": [
    "## Question 25\n",
    "\n",
    "**Programming Poll:** Write a while loop that asks people why they like programming. Each time someone enters a reason, add their reason to a file that stores all the responses."
   ]
  },
  {
   "cell_type": "code",
   "execution_count": null,
   "id": "042dfb04",
   "metadata": {},
   "outputs": [],
   "source": []
  },
  {
   "cell_type": "markdown",
   "id": "ed07a1ca",
   "metadata": {},
   "source": [
    "## Question 26\n",
    "\n",
    "**Addition:** One common problem when prompting for numerical input occurs when people provide text instead of numbers. When you try to convert the input to an int, you’ll get a ValueError. Write a program that prompts for two numbers. Add them together and print the result. Catch the ValueError if either input value is not a number, and print a friendly error message. Test your program by entering two numbers and then by entering some text instead of a number."
   ]
  },
  {
   "cell_type": "code",
   "execution_count": null,
   "id": "eaf686f8",
   "metadata": {},
   "outputs": [],
   "source": []
  },
  {
   "cell_type": "markdown",
   "id": "09db5341",
   "metadata": {},
   "source": [
    "## Question 27\n",
    "\n",
    "**Addition Calculator:** Wrap your code from Question 26 in a while loop so the user can continue entering numbers even if they make a mistake and enter text instead of a number."
   ]
  },
  {
   "cell_type": "code",
   "execution_count": null,
   "id": "916c769d",
   "metadata": {},
   "outputs": [],
   "source": []
  },
  {
   "cell_type": "markdown",
   "id": "288099a9",
   "metadata": {},
   "source": [
    "## Question 28\n",
    "\n",
    "**Cats and Dogs:** Make two files, _cats.txt_ and _dogs.txt_. Store at least three names of cats in the first file and three names of dogs in the second file. Write a program that tries to read these files and print the contents of the file to the screen. Wrap your code in a `try-except` block to catch the `FileNotFound` error, and print a friendly message if a file is missing. Move one of the files to a different location on your system, and make sure the code in the `except` block executes properly."
   ]
  },
  {
   "cell_type": "code",
   "execution_count": null,
   "id": "387672f6",
   "metadata": {},
   "outputs": [],
   "source": []
  },
  {
   "cell_type": "markdown",
   "id": "e9d28546",
   "metadata": {},
   "source": [
    "## Question 29\n",
    "\n",
    "**Silent Cats and Dogs:** Modify your except block in Question 28 to fail silently if either file is missing."
   ]
  },
  {
   "cell_type": "code",
   "execution_count": null,
   "id": "2b972722",
   "metadata": {},
   "outputs": [],
   "source": []
  },
  {
   "cell_type": "markdown",
   "id": "241ffab1",
   "metadata": {},
   "source": [
    "## Question 30\n",
    "\n",
    "**Common Words:** Visit Project Gutenberg (<https://gutenberg.org/>) and find a few texts you’d like to analyze. Download the text files for these works, or copy the raw text from your browser into a text file on your computer. You can use the `count()` method to find out how many times a word or phrase appears in a string. For example, the following code counts the number of times 'row' appears in a string:"
   ]
  },
  {
   "cell_type": "code",
   "execution_count": null,
   "id": "2a017ac9",
   "metadata": {},
   "outputs": [],
   "source": [
    "line = \"Row, row, row your boat\"\n",
    "line.count('row')"
   ]
  },
  {
   "cell_type": "code",
   "execution_count": null,
   "id": "41707165",
   "metadata": {},
   "outputs": [],
   "source": [
    "line.lower().count('row')"
   ]
  },
  {
   "cell_type": "markdown",
   "id": "5652cc4d",
   "metadata": {},
   "source": [
    "Notice that converting the string to lowercase using lower() catches all appearances of the word you’re looking for, regardless of how it’s formatted.\n",
    "\n",
    "Write a program that reads the files you found at Project Gutenberg and determines how many times the word `the` appears in each text. This will be an approximation because it will also count words such as `then` and `there`. Try counting `the`, with a space in the string, and see how much lower your count is."
   ]
  },
  {
   "cell_type": "code",
   "execution_count": null,
   "id": "55ab2af3",
   "metadata": {},
   "outputs": [],
   "source": []
  }
 ],
 "metadata": {
  "kernelspec": {
   "display_name": "Python 3",
   "language": "python",
   "name": "python3"
  },
  "language_info": {
   "codemirror_mode": {
    "name": "ipython",
    "version": 3
   },
   "file_extension": ".py",
   "mimetype": "text/x-python",
   "name": "python",
   "nbconvert_exporter": "python",
   "pygments_lexer": "ipython3",
   "version": "3.9.16"
  }
 },
 "nbformat": 4,
 "nbformat_minor": 5
}
